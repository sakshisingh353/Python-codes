{
 "cells": [
  {
   "cell_type": "raw",
   "id": "67f0ae66",
   "metadata": {},
   "source": [
    "1.if else\n",
    "2.if elif else\n",
    "3.Nested if else\n",
    "4.Single line if else\n"
   ]
  },
  {
   "cell_type": "markdown",
   "id": "992d2834",
   "metadata": {},
   "source": [
    "### if - elif condition"
   ]
  },
  {
   "cell_type": "raw",
   "id": "495a0ccc",
   "metadata": {},
   "source": [
    "Case:\n",
    "Online food orders- Zomato, swiggy, uber eats\n",
    "Discounts \n",
    "if order > Rs.499 discount -10%\n",
    "if order > Rs.999 discount-20%\n",
    "Same can be represented in form of if else"
   ]
  },
  {
   "cell_type": "code",
   "execution_count": 7,
   "id": "0ca3200a",
   "metadata": {},
   "outputs": [
    {
     "name": "stdout",
     "output_type": "stream",
     "text": [
      "Total amount:1700\n",
      "Pay amount: 1360.0\n"
     ]
    }
   ],
   "source": [
    "total_amount=90+1100+120+390 #product prices\n",
    "print(f\"Total amount:{total_amount}\")\n",
    "if total_amount>999:\n",
    "    price_after_discount=total_amount*0.8\n",
    "    print(f\"Pay amount: {price_after_discount}\")\n",
    "    \n",
    "elif total_amount<=999 and total_amount>499:\n",
    "    price_after_discount=total_amount*0.9\n",
    "    print(f\"Pay amount: {price_after_discount}\")\n",
    "    \n",
    "else:\n",
    "    price_after_discount=total_amount\n",
    "    print(f\"Pay amount: {price_after_discount}\")\n",
    "    \n",
    "    \n",
    "    \n",
    "    "
   ]
  },
  {
   "cell_type": "markdown",
   "id": "2aadbb2f",
   "metadata": {},
   "source": [
    "### Nested if-else"
   ]
  },
  {
   "cell_type": "raw",
   "id": "95441f94",
   "metadata": {},
   "source": [
    "Print if the number is positive or negative\n",
    "using if else inside if else -Nested if else"
   ]
  },
  {
   "cell_type": "code",
   "execution_count": 10,
   "id": "9ba0bd11",
   "metadata": {},
   "outputs": [
    {
     "name": "stdout",
     "output_type": "stream",
     "text": [
      "Enter a number: 0\n",
      "zero\n"
     ]
    }
   ],
   "source": [
    "val=float(input(\"Enter a number: \"))\n",
    "if val>=0:\n",
    "    if val==0:\n",
    "        print(\"zero\")\n",
    "    else:\n",
    "        print(\"Positive number\")\n",
    "else:\n",
    "    print(\"negative number\")"
   ]
  },
  {
   "cell_type": "markdown",
   "id": "4b608a3d",
   "metadata": {},
   "source": [
    "### single line if-else"
   ]
  },
  {
   "cell_type": "code",
   "execution_count": 15,
   "id": "43c8e3db",
   "metadata": {},
   "outputs": [
    {
     "name": "stdout",
     "output_type": "stream",
     "text": [
      "Enter a number :9\n"
     ]
    }
   ],
   "source": [
    "val=int(input(\"Enter a number :\"))\n",
    "if val>99: print(\"yes \") "
   ]
  },
  {
   "cell_type": "markdown",
   "id": "c496ee8a",
   "metadata": {},
   "source": [
    "## Loops\n"
   ]
  },
  {
   "cell_type": "raw",
   "id": "deeb6caf",
   "metadata": {},
   "source": [
    "1.While loop\n",
    "2.For loop\n",
    "3.Loop control\n",
    " -break\n",
    " -continue\n",
    " -pass\n",
    "4.Nested loop"
   ]
  },
  {
   "cell_type": "raw",
   "id": "c4232e80",
   "metadata": {},
   "source": [
    "Case:\n",
    "UPSC, IAS exams etc\n",
    "repetative attempts\n"
   ]
  },
  {
   "cell_type": "code",
   "execution_count": 29,
   "id": "70add834",
   "metadata": {},
   "outputs": [
    {
     "name": "stdout",
     "output_type": "stream",
     "text": [
      "Better luck next time !!\n",
      "Better luck next time !!\n",
      "Better luck next time !!\n",
      "You have cleared the exam\n",
      "You have cleared the exam\n"
     ]
    }
   ],
   "source": [
    "total_marks=700\n",
    "cut_off=300\n",
    "scores=[100,250,295,350,500]\n",
    "for i in scores:\n",
    "    if i >cut_off:\n",
    "        print(\"You have cleared the exam\")\n",
    "    else:\n",
    "        print(\"Better luck next time !!\")"
   ]
  },
  {
   "cell_type": "markdown",
   "id": "a15c45cf",
   "metadata": {},
   "source": [
    "### while loop"
   ]
  },
  {
   "cell_type": "raw",
   "id": "d98dbdfc",
   "metadata": {},
   "source": [
    "while I do not cross the cutoff marks I will keep on giving my exams\n",
    "\n",
    "while CONDITION: #true\n",
    "  print()"
   ]
  },
  {
   "cell_type": "code",
   "execution_count": 30,
   "id": "8423d076",
   "metadata": {},
   "outputs": [
    {
     "name": "stdout",
     "output_type": "stream",
     "text": [
      "Your score is: 100\n",
      "Better luck next time\n",
      "Your score is: 250\n",
      "Better luck next time\n",
      "Your score is: 295\n",
      "Better luck next time\n"
     ]
    }
   ],
   "source": [
    "#while : condition is true it will perform that action\n",
    "year=0\n",
    "while scores[year]<cut_off:\n",
    "    print(f\"Your score is: {scores[year]}\")\n",
    "    print(\"Better luck next time\")\n",
    "    year=year+1"
   ]
  },
  {
   "cell_type": "raw",
   "id": "ad107cf3",
   "metadata": {},
   "source": [
    "#infinite loop\n",
    "If the condition is always true then your loop will keep on running\n"
   ]
  },
  {
   "cell_type": "raw",
   "id": "2a4c5a69",
   "metadata": {},
   "source": [
    "A child is learning to counts 10 rupees of note.\n"
   ]
  },
  {
   "cell_type": "code",
   "execution_count": 38,
   "id": "177a6c28",
   "metadata": {},
   "outputs": [
    {
     "name": "stdout",
     "output_type": "stream",
     "text": [
      "current sum: 10\n",
      "current sum: 20\n",
      "current sum: 30\n",
      "current sum: 40\n",
      "current sum: 50\n",
      "current sum: 60\n",
      "current sum: 70\n",
      "current sum: 80\n",
      "current sum: 90\n",
      "current sum: 100\n"
     ]
    }
   ],
   "source": [
    "notes=10\n",
    "i=1\n",
    "while i<=notes:\n",
    "    print(f\"current sum: {i*10}\")\n",
    "    i=i+1\n",
    "    \n",
    "    "
   ]
  },
  {
   "cell_type": "code",
   "execution_count": 3,
   "id": "fc842f88",
   "metadata": {},
   "outputs": [
    {
     "name": "stdout",
     "output_type": "stream",
     "text": [
      "1 * 9 = 9\n",
      "2 * 9 = 18\n",
      "3 * 9 = 27\n",
      "4 * 9 = 36\n",
      "5 * 9 = 45\n",
      "6 * 9 = 54\n",
      "7 * 9 = 63\n",
      "8 * 9 = 72\n",
      "9 * 9 = 81\n",
      "10 * 9 = 90\n"
     ]
    }
   ],
   "source": [
    "#table of 9\n",
    "number=9\n",
    "i=1\n",
    "while i<=number+1:\n",
    "    print(f\"{i} * {number} = {i*number}\")\n",
    "    i=i+1"
   ]
  },
  {
   "cell_type": "code",
   "execution_count": 9,
   "id": "31a01e7e",
   "metadata": {},
   "outputs": [
    {
     "name": "stdout",
     "output_type": "stream",
     "text": [
      "current station is:station1\n",
      "Continue the journey\n",
      "Next station is :station2\n",
      "----------\n",
      "current station is:station2\n",
      "Continue the journey\n",
      "Next station is :station3\n",
      "----------\n"
     ]
    }
   ],
   "source": [
    "#Various stations , taking journey from delhi to end destination\n",
    "stations=[\"station1\",\"station2\",\"station3\",\"station4\"]\n",
    "#station3 is the stoppage \n",
    "current_station=0\n",
    "destination_station=\"station3\"\n",
    "while stations[current_station]!=destination_station:\n",
    "    print(f\"current station is:{stations[current_station]}\")\n",
    "    print(\"Continue the journey\")\n",
    "    \n",
    "    current_station=current_station+1\n",
    "    print(f\"Next station is :{stations[current_station]}\")\n",
    "    print(\"-\"*10)\n",
    "    "
   ]
  },
  {
   "cell_type": "markdown",
   "id": "0e81485a",
   "metadata": {},
   "source": [
    "### while else"
   ]
  },
  {
   "cell_type": "code",
   "execution_count": 11,
   "id": "389e2a74",
   "metadata": {},
   "outputs": [
    {
     "name": "stdout",
     "output_type": "stream",
     "text": [
      "current station is:station1\n",
      "Continue the journey\n",
      "Next station is :station2\n",
      "----------\n",
      "current station is:station2\n",
      "Continue the journey\n",
      "Next station is :station3\n",
      "----------\n",
      "Arrived at :station3\n"
     ]
    }
   ],
   "source": [
    "#Various stations , taking journey from delhi to end destination\n",
    "stations=[\"station1\",\"station2\",\"station3\",\"station4\"]\n",
    "#station3 is the stoppage \n",
    "current_station=0\n",
    "destination_station=\"station3\"\n",
    "while stations[current_station]!=destination_station:\n",
    "    print(f\"current station is:{stations[current_station]}\")\n",
    "    print(\"Continue the journey\")\n",
    "    \n",
    "    current_station=current_station+1\n",
    "    print(f\"Next station is :{stations[current_station]}\")\n",
    "    print(\"-\"*10)\n",
    "else:\n",
    "    print(f\"Arrived at :{stations[current_station]}\")"
   ]
  },
  {
   "cell_type": "raw",
   "id": "dda0edd1",
   "metadata": {},
   "source": [
    "while condition is true:\n",
    "  statement\n",
    "else: #condition when it becomes false\n",
    "  statement"
   ]
  },
  {
   "cell_type": "code",
   "execution_count": 12,
   "id": "5147b09f",
   "metadata": {},
   "outputs": [
    {
     "name": "stdout",
     "output_type": "stream",
     "text": [
      "current sum: 10\n",
      "current sum: 20\n",
      "current sum: 30\n",
      "current sum: 40\n",
      "current sum: 50\n",
      "No more notes left\n"
     ]
    }
   ],
   "source": [
    "# Example:\n",
    "notes=5\n",
    "i=1\n",
    "while i<=notes:\n",
    "    print(f\"current sum: {i*10}\")\n",
    "    i=i+1\n",
    "else:\n",
    "    print(\"No more notes left\")"
   ]
  },
  {
   "cell_type": "markdown",
   "id": "0e15394d",
   "metadata": {},
   "source": [
    "### For loop"
   ]
  },
  {
   "cell_type": "code",
   "execution_count": 13,
   "id": "56f621bf",
   "metadata": {},
   "outputs": [
    {
     "name": "stdout",
     "output_type": "stream",
     "text": [
      "0\n",
      "1\n",
      "2\n",
      "3\n",
      "4\n",
      "5\n",
      "6\n",
      "7\n",
      "8\n",
      "9\n"
     ]
    }
   ],
   "source": [
    "for i in range(0,10):\n",
    "    print(i)"
   ]
  },
  {
   "cell_type": "code",
   "execution_count": 14,
   "id": "9c92723a",
   "metadata": {},
   "outputs": [
    {
     "name": "stdout",
     "output_type": "stream",
     "text": [
      "*\n",
      "**\n",
      "***\n",
      "****\n",
      "*****\n",
      "******\n",
      "*******\n",
      "********\n",
      "*********\n",
      "**********\n"
     ]
    }
   ],
   "source": [
    "for i in range(1,11):\n",
    "    print(\"*\"*i)"
   ]
  },
  {
   "cell_type": "code",
   "execution_count": 26,
   "id": "821005d8",
   "metadata": {},
   "outputs": [
    {
     "name": "stdout",
     "output_type": "stream",
     "text": [
      "Total amount: 1597\n"
     ]
    }
   ],
   "source": [
    "#Example:Purchase items and wants to know total amount\n",
    "list_items=[50,100,90,25,876,456]\n",
    "total_sum=0\n",
    "for i in range(0,len(list_items)):\n",
    "    total_sum=total_sum+list_items[i]\n",
    "print(f\"Total amount: {total_sum}\")\n"
   ]
  },
  {
   "cell_type": "code",
   "execution_count": 32,
   "id": "e19c18d1",
   "metadata": {},
   "outputs": [
    {
     "name": "stdout",
     "output_type": "stream",
     "text": [
      "Current station is :station1\n",
      "Current station is :station2\n",
      "Current station is :station3\n",
      "Current station is :station4\n"
     ]
    }
   ],
   "source": [
    "#Example:Doing train journey print the current station\n",
    "stations=[\"station1\",\"station2\",\"station3\",\"station4\"]\n",
    "destination=\"station3\"\n",
    "\n",
    "for station in stations:\n",
    "    print(f\"Current station is :{station}\")"
   ]
  },
  {
   "cell_type": "markdown",
   "id": "93536af1",
   "metadata": {},
   "source": [
    "### Break and continue\n"
   ]
  },
  {
   "cell_type": "code",
   "execution_count": 57,
   "id": "40a97593",
   "metadata": {},
   "outputs": [
    {
     "name": "stdout",
     "output_type": "stream",
     "text": [
      "2189\n"
     ]
    }
   ],
   "source": [
    "#Example:\n",
    "\n",
    "list_items=[50,100,90,25,876,456,299,300]\n",
    "\n",
    "total_sum=0\n",
    "\n",
    "budget=2000\n",
    "\n",
    "for items in range(0,len(list_items)):\n",
    "    total_sum=total_sum+list_items[items]\n",
    "    if total_sum>=budget:\n",
    "        total_sum=total_sum-items\n",
    "        break  #stop \n",
    "\n",
    "   \n",
    "        \n",
    "print(total_sum)"
   ]
  },
  {
   "cell_type": "code",
   "execution_count": 69,
   "id": "4390e8ec",
   "metadata": {},
   "outputs": [
    {
     "name": "stdout",
     "output_type": "stream",
     "text": [
      "1\n",
      "2\n",
      "3\n",
      "4\n",
      "5\n",
      "6\n",
      "7\n",
      "8\n",
      "9\n",
      "10\n",
      "11\n",
      "12\n",
      "13\n",
      "14\n",
      "15\n",
      "16\n",
      "17\n",
      "18\n",
      "19\n",
      "20\n",
      "21\n",
      "22\n",
      "23\n",
      "24\n",
      "25\n",
      "26\n",
      "27\n",
      "28\n",
      "29\n",
      "30\n",
      "31\n",
      "32\n",
      "33\n",
      "34\n",
      "35\n",
      "36\n",
      "37\n",
      "38\n",
      "39\n",
      "40\n",
      "41\n",
      "42\n",
      "43\n",
      "44\n",
      "45\n",
      "46\n",
      "47\n",
      "48\n",
      "49\n",
      "50\n"
     ]
    }
   ],
   "source": [
    "for i in range(1,100):\n",
    "    print(i)\n",
    "    if i>=50:\n",
    "        break\n",
    "\n",
    "    "
   ]
  },
  {
   "cell_type": "code",
   "execution_count": 72,
   "id": "70e5f99e",
   "metadata": {},
   "outputs": [
    {
     "name": "stdout",
     "output_type": "stream",
     "text": [
      "1\n",
      "3\n",
      "5\n",
      "7\n",
      "9\n",
      "11\n",
      "13\n",
      "15\n",
      "17\n",
      "19\n"
     ]
    }
   ],
   "source": [
    "#Example:continue\n",
    "for i in range(1,20):\n",
    "    if i%2==0: #If number is even then start the loop\n",
    "        continue\n",
    "    print(i)\n"
   ]
  },
  {
   "cell_type": "code",
   "execution_count": 74,
   "id": "42cc2b25",
   "metadata": {},
   "outputs": [
    {
     "name": "stdout",
     "output_type": "stream",
     "text": [
      "2\n",
      "4\n",
      "6\n",
      "8\n",
      "10\n",
      "12\n",
      "14\n",
      "16\n",
      "18\n"
     ]
    }
   ],
   "source": [
    "#Example:continue\n",
    "for i in range(1,20):\n",
    "    if i%2!=0: #If number is odd then start the loop\n",
    "        continue\n",
    "    print(i)\n"
   ]
  },
  {
   "cell_type": "raw",
   "id": "f07f0968",
   "metadata": {},
   "source": [
    "break- condition is true\n",
    "continue- continue the loop again if the condition is true\n",
    "pass- nothing\n"
   ]
  },
  {
   "cell_type": "code",
   "execution_count": 75,
   "id": "e2bac698",
   "metadata": {},
   "outputs": [
    {
     "name": "stdout",
     "output_type": "stream",
     "text": [
      "1\n",
      "2\n",
      "3\n",
      "4\n",
      "5\n",
      "6\n",
      "7\n",
      "8\n",
      "9\n",
      "10\n",
      "11\n",
      "12\n",
      "13\n",
      "14\n",
      "15\n",
      "16\n",
      "17\n",
      "18\n",
      "19\n"
     ]
    }
   ],
   "source": [
    "#Example:continue\n",
    "for i in range(1,20):\n",
    "    if i%2!=0: #If number is odd then start the loop\n",
    "        pass\n",
    "    print(i)"
   ]
  },
  {
   "cell_type": "code",
   "execution_count": null,
   "id": "e6f394a8",
   "metadata": {},
   "outputs": [],
   "source": []
  }
 ],
 "metadata": {
  "kernelspec": {
   "display_name": "Python 3 (ipykernel)",
   "language": "python",
   "name": "python3"
  },
  "language_info": {
   "codemirror_mode": {
    "name": "ipython",
    "version": 3
   },
   "file_extension": ".py",
   "mimetype": "text/x-python",
   "name": "python",
   "nbconvert_exporter": "python",
   "pygments_lexer": "ipython3",
   "version": "3.10.9"
  }
 },
 "nbformat": 4,
 "nbformat_minor": 5
}
