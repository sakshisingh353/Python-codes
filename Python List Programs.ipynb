{
 "cells": [
  {
   "cell_type": "markdown",
   "id": "29448c19",
   "metadata": {},
   "source": [
    "### Program to interchange first and the last element in a list"
   ]
  },
  {
   "cell_type": "code",
   "execution_count": 30,
   "id": "dbfd8fdf",
   "metadata": {},
   "outputs": [],
   "source": [
    "my_list=[1,3,4,6,7,9,10]\n",
    "my_lists=[9,4,7,1,8,10]"
   ]
  },
  {
   "cell_type": "code",
   "execution_count": 26,
   "id": "26b01288",
   "metadata": {},
   "outputs": [],
   "source": [
    "def swap_ele(my_list):\n",
    "    a=my_list[-1]\n",
    "    b=my_list[0]\n",
    "    my_list[-1]=b\n",
    "    my_list[0]=a\n",
    "    return my_list"
   ]
  },
  {
   "cell_type": "code",
   "execution_count": 27,
   "id": "82994543",
   "metadata": {},
   "outputs": [
    {
     "data": {
      "text/plain": [
       "[10, 3, 4, 6, 7, 9, 1]"
      ]
     },
     "execution_count": 27,
     "metadata": {},
     "output_type": "execute_result"
    }
   ],
   "source": [
    "swap_ele(my_list)"
   ]
  },
  {
   "cell_type": "code",
   "execution_count": 31,
   "id": "47fd254c",
   "metadata": {},
   "outputs": [
    {
     "data": {
      "text/plain": [
       "[10, 4, 7, 1, 8, 9]"
      ]
     },
     "execution_count": 31,
     "metadata": {},
     "output_type": "execute_result"
    }
   ],
   "source": [
    "swap_ele(my_lists)"
   ]
  },
  {
   "cell_type": "markdown",
   "id": "85c96e13",
   "metadata": {},
   "source": [
    "### Program to swap two elements in a list"
   ]
  },
  {
   "cell_type": "code",
   "execution_count": 41,
   "id": "7f511509",
   "metadata": {},
   "outputs": [],
   "source": [
    "num=[6,4,2,7,8,9,0]\n",
    "def swap(num,pos1,pos2):\n",
    "    temp=num[pos2]\n",
    "    num[pos2]=num[pos1]\n",
    "    num[pos1]=temp\n",
    "    return num"
   ]
  },
  {
   "cell_type": "code",
   "execution_count": 42,
   "id": "46a8f74c",
   "metadata": {},
   "outputs": [
    {
     "data": {
      "text/plain": [
       "[0, 4, 2, 7, 8, 9, 6]"
      ]
     },
     "execution_count": 42,
     "metadata": {},
     "output_type": "execute_result"
    }
   ],
   "source": [
    "swap(num,0,6)"
   ]
  },
  {
   "cell_type": "markdown",
   "id": "1c7e524e",
   "metadata": {},
   "source": [
    "### Program :Ways to find the length of the list"
   ]
  },
  {
   "cell_type": "code",
   "execution_count": 43,
   "id": "76e38508",
   "metadata": {},
   "outputs": [],
   "source": [
    "name=[1,4,6,8,9,10]\n",
    "def len_list(name):\n",
    "    print(len(name))"
   ]
  },
  {
   "cell_type": "code",
   "execution_count": 44,
   "id": "907d090b",
   "metadata": {},
   "outputs": [
    {
     "name": "stdout",
     "output_type": "stream",
     "text": [
      "6\n"
     ]
    }
   ],
   "source": [
    "len_list(name)"
   ]
  },
  {
   "cell_type": "code",
   "execution_count": 54,
   "id": "8985269a",
   "metadata": {},
   "outputs": [],
   "source": [
    "count=0\n",
    "for i in name:\n",
    "    count=count+1\n",
    "    "
   ]
  },
  {
   "cell_type": "code",
   "execution_count": 55,
   "id": "146d0cb8",
   "metadata": {},
   "outputs": [
    {
     "data": {
      "text/plain": [
       "6"
      ]
     },
     "execution_count": 55,
     "metadata": {},
     "output_type": "execute_result"
    }
   ],
   "source": [
    "count"
   ]
  },
  {
   "cell_type": "markdown",
   "id": "af57e88f",
   "metadata": {},
   "source": [
    "### Program to Check if element exists in list "
   ]
  },
  {
   "cell_type": "code",
   "execution_count": 96,
   "id": "bce89a3d",
   "metadata": {},
   "outputs": [],
   "source": [
    "my_list=[3,5,6,8,1,9,0,2,4,5]\n",
    "def element(my_list,ele):\n",
    "    for i in range(0,len(my_list)):\n",
    "        if my_list[i]==ele:\n",
    "            print(\"Element exists in the list\")\n",
    "        else:\n",
    "            None"
   ]
  },
  {
   "cell_type": "code",
   "execution_count": 95,
   "id": "a9660be3",
   "metadata": {},
   "outputs": [],
   "source": [
    "element(my_list,10)\n",
    "        \n",
    "        "
   ]
  },
  {
   "cell_type": "markdown",
   "id": "92df9146",
   "metadata": {},
   "source": [
    "### Ways to clear list in python"
   ]
  },
  {
   "cell_type": "code",
   "execution_count": 97,
   "id": "b6cc2d29",
   "metadata": {},
   "outputs": [],
   "source": [
    "p=[0,4,6,7,8,9,9]"
   ]
  },
  {
   "cell_type": "code",
   "execution_count": 98,
   "id": "1ae81c10",
   "metadata": {},
   "outputs": [
    {
     "name": "stdout",
     "output_type": "stream",
     "text": [
      "List before clear: [0, 4, 6, 7, 8, 9, 9]\n",
      "List after clear: []\n"
     ]
    }
   ],
   "source": [
    "print(\"List before clear:\",p)\n",
    "p.clear()\n",
    "print(\"List after clear:\",p)"
   ]
  },
  {
   "cell_type": "markdown",
   "id": "49ecce63",
   "metadata": {},
   "source": [
    "### Reversing a list in python"
   ]
  },
  {
   "cell_type": "code",
   "execution_count": 101,
   "id": "943ce50c",
   "metadata": {},
   "outputs": [],
   "source": [
    "s=[5,7,8,9,2,3,4,5,6]\n"
   ]
  },
  {
   "cell_type": "code",
   "execution_count": 102,
   "id": "f0dd1f22",
   "metadata": {},
   "outputs": [
    {
     "name": "stdout",
     "output_type": "stream",
     "text": [
      "original list: [5, 7, 8, 9, 2, 3, 4, 5, 6]\n",
      "List after reverse: [6, 5, 4, 3, 2, 9, 8, 7, 5]\n"
     ]
    }
   ],
   "source": [
    "print(\"original list:\",s)\n",
    "s.reverse()\n",
    "print(\"List after reverse:\",s)"
   ]
  },
  {
   "cell_type": "markdown",
   "id": "0de632b4",
   "metadata": {},
   "source": [
    "### Program to find sum of elements in a list"
   ]
  },
  {
   "cell_type": "code",
   "execution_count": 103,
   "id": "48b2d1ee",
   "metadata": {},
   "outputs": [],
   "source": [
    "my_list=[3,5,6,7,8,9,3,'s']"
   ]
  },
  {
   "cell_type": "code",
   "execution_count": 116,
   "id": "7a4a25f3",
   "metadata": {},
   "outputs": [
    {
     "name": "stdout",
     "output_type": "stream",
     "text": [
      "3\n",
      "8\n",
      "14\n",
      "21\n",
      "29\n",
      "38\n",
      "41\n"
     ]
    }
   ],
   "source": [
    "k=0\n",
    "for i in range(0,len(my_list)):\n",
    "    if type(my_list[i]) is int:\n",
    "        k=k+my_list[i]\n",
    "        print(k)\n",
    "        \n",
    "        "
   ]
  },
  {
   "cell_type": "code",
   "execution_count": 117,
   "id": "cd555a2b",
   "metadata": {},
   "outputs": [
    {
     "data": {
      "text/plain": [
       "41"
      ]
     },
     "execution_count": 117,
     "metadata": {},
     "output_type": "execute_result"
    }
   ],
   "source": [
    "k"
   ]
  },
  {
   "cell_type": "markdown",
   "id": "db133775",
   "metadata": {},
   "source": [
    "### Multiply all numbers in a list"
   ]
  },
  {
   "cell_type": "code",
   "execution_count": 118,
   "id": "98a58685",
   "metadata": {},
   "outputs": [],
   "source": [
    "my_list=[4,5,6,7,8,9,3,2]\n",
    "s=1"
   ]
  },
  {
   "cell_type": "code",
   "execution_count": 119,
   "id": "9fde3a03",
   "metadata": {},
   "outputs": [],
   "source": [
    "for i in range(0,len(my_list)):\n",
    "    s=s*my_list[i]\n",
    "    "
   ]
  },
  {
   "cell_type": "code",
   "execution_count": 120,
   "id": "034dbb8f",
   "metadata": {},
   "outputs": [
    {
     "data": {
      "text/plain": [
       "362880"
      ]
     },
     "execution_count": 120,
     "metadata": {},
     "output_type": "execute_result"
    }
   ],
   "source": [
    "s"
   ]
  },
  {
   "cell_type": "markdown",
   "id": "ff32a9e8",
   "metadata": {},
   "source": [
    "### Program to find smallest number in a list"
   ]
  },
  {
   "cell_type": "code",
   "execution_count": 124,
   "id": "e7e16146",
   "metadata": {},
   "outputs": [],
   "source": [
    "list1=[3,6,2,8,6,4,5,10]"
   ]
  },
  {
   "cell_type": "code",
   "execution_count": 125,
   "id": "1345e09f",
   "metadata": {},
   "outputs": [
    {
     "name": "stdout",
     "output_type": "stream",
     "text": [
      "smallest number in the list is : 2\n"
     ]
    }
   ],
   "source": [
    "for i in range(0,len(list1)):\n",
    "    list1.sort()\n",
    "    print(\"smallest number in the list is :\",list1[0])\n",
    "    break"
   ]
  },
  {
   "cell_type": "code",
   "execution_count": null,
   "id": "5ad152ce",
   "metadata": {},
   "outputs": [],
   "source": []
  },
  {
   "cell_type": "markdown",
   "id": "1ec2b8fc",
   "metadata": {},
   "source": [
    "### Program to find Largest number in a list"
   ]
  },
  {
   "cell_type": "code",
   "execution_count": 127,
   "id": "061014e4",
   "metadata": {},
   "outputs": [
    {
     "name": "stdout",
     "output_type": "stream",
     "text": [
      "Largest number in the list is : 10\n"
     ]
    }
   ],
   "source": [
    "for i in range(0,len(list1)):\n",
    "    list1.sort()\n",
    "    print(\"Largest number in the list is :\",list1[-1])\n",
    "    break"
   ]
  },
  {
   "cell_type": "markdown",
   "id": "abdc2813",
   "metadata": {},
   "source": [
    "### Program to find all negative numbers in a range"
   ]
  },
  {
   "cell_type": "code",
   "execution_count": 128,
   "id": "792e0297",
   "metadata": {},
   "outputs": [],
   "source": [
    "start=-5\n",
    "end=5"
   ]
  },
  {
   "cell_type": "code",
   "execution_count": 131,
   "id": "06fdcbe0",
   "metadata": {},
   "outputs": [
    {
     "name": "stdout",
     "output_type": "stream",
     "text": [
      "-5,-4,-3,-2,-1,"
     ]
    }
   ],
   "source": [
    "for i in range(start, end+1):\n",
    "    if i<0:\n",
    "        print(i,end=',')"
   ]
  },
  {
   "cell_type": "markdown",
   "id": "5581891c",
   "metadata": {},
   "source": [
    "### Program to find all positive numbers in a range"
   ]
  },
  {
   "cell_type": "code",
   "execution_count": 132,
   "id": "42377af5",
   "metadata": {},
   "outputs": [],
   "source": [
    "start=-5\n",
    "end=5"
   ]
  },
  {
   "cell_type": "code",
   "execution_count": 133,
   "id": "498af722",
   "metadata": {},
   "outputs": [
    {
     "name": "stdout",
     "output_type": "stream",
     "text": [
      "1,2,3,4,5,"
     ]
    }
   ],
   "source": [
    "for i in range(start, end+1):\n",
    "    if i>0:\n",
    "        print(i,end=',')"
   ]
  },
  {
   "cell_type": "code",
   "execution_count": null,
   "id": "5f064e37",
   "metadata": {},
   "outputs": [],
   "source": []
  },
  {
   "cell_type": "markdown",
   "id": "8bb6d427",
   "metadata": {},
   "source": [
    "### Progarm to print negative numbers in a list"
   ]
  },
  {
   "cell_type": "code",
   "execution_count": 134,
   "id": "8013b523",
   "metadata": {},
   "outputs": [],
   "source": [
    "list2=[3,5,6,78,2,-1,-2]"
   ]
  },
  {
   "cell_type": "code",
   "execution_count": 139,
   "id": "5d9de86f",
   "metadata": {},
   "outputs": [
    {
     "name": "stdout",
     "output_type": "stream",
     "text": [
      "-1,-2,"
     ]
    }
   ],
   "source": [
    "for i in list2:\n",
    "    if i<0:\n",
    "        print (i,end=',')"
   ]
  },
  {
   "cell_type": "markdown",
   "id": "5af01641",
   "metadata": {},
   "source": [
    "### Program to print odd numbers in a list"
   ]
  },
  {
   "cell_type": "code",
   "execution_count": 141,
   "id": "4457e4f5",
   "metadata": {},
   "outputs": [],
   "source": [
    "list3=[4,2,3,1,6,7,9,3,1,17]"
   ]
  },
  {
   "cell_type": "code",
   "execution_count": 142,
   "id": "85cde314",
   "metadata": {},
   "outputs": [
    {
     "name": "stdout",
     "output_type": "stream",
     "text": [
      "3\n",
      "1\n",
      "7\n",
      "9\n",
      "3\n",
      "1\n",
      "17\n"
     ]
    }
   ],
   "source": [
    "for i in list3:\n",
    "    if i%2!=0:\n",
    "        print(i)\n",
    "        "
   ]
  },
  {
   "cell_type": "markdown",
   "id": "2675e3f0",
   "metadata": {},
   "source": [
    "### Program to print even numbers in a list"
   ]
  },
  {
   "cell_type": "code",
   "execution_count": 143,
   "id": "1ef8597c",
   "metadata": {},
   "outputs": [
    {
     "name": "stdout",
     "output_type": "stream",
     "text": [
      "4\n",
      "2\n",
      "6\n"
     ]
    }
   ],
   "source": [
    "for i in list3:\n",
    "    if i%2==0:\n",
    "        print(i)\n",
    "        "
   ]
  },
  {
   "cell_type": "markdown",
   "id": "9db2b182",
   "metadata": {},
   "source": [
    "### Program to find second largest elements in a list"
   ]
  },
  {
   "cell_type": "code",
   "execution_count": 145,
   "id": "711388a5",
   "metadata": {},
   "outputs": [
    {
     "name": "stdout",
     "output_type": "stream",
     "text": [
      "9\n"
     ]
    }
   ],
   "source": [
    "for i in range(0,len(list3)):\n",
    "    list3.sort()\n",
    "    print(list3[-2])\n",
    "    break"
   ]
  },
  {
   "cell_type": "code",
   "execution_count": null,
   "id": "90aee974",
   "metadata": {},
   "outputs": [],
   "source": []
  },
  {
   "cell_type": "code",
   "execution_count": null,
   "id": "fe13c4da",
   "metadata": {},
   "outputs": [],
   "source": []
  },
  {
   "cell_type": "markdown",
   "id": "e00057ea",
   "metadata": {},
   "source": [
    "### Program to find N numbers of largest elements in a list"
   ]
  },
  {
   "cell_type": "code",
   "execution_count": 157,
   "id": "ea65523b",
   "metadata": {},
   "outputs": [],
   "source": [
    "list4=[56,2,4,7,8,9,1,2,3,4]"
   ]
  },
  {
   "cell_type": "code",
   "execution_count": 158,
   "id": "2b3b1202",
   "metadata": {},
   "outputs": [],
   "source": [
    "n=4\n",
    "final_list=[]\n",
    "for i in range(0,n):\n",
    "    max1=0\n",
    "    for j in range(0,len(list4)):\n",
    "        if list4[j]>max1:\n",
    "            max1=list4[j]\n",
    "    list4.remove(max1)\n",
    "    final_list.append(max1)"
   ]
  },
  {
   "cell_type": "code",
   "execution_count": 159,
   "id": "f90791a8",
   "metadata": {},
   "outputs": [
    {
     "data": {
      "text/plain": [
       "[56, 9, 8, 7]"
      ]
     },
     "execution_count": 159,
     "metadata": {},
     "output_type": "execute_result"
    }
   ],
   "source": [
    "final_list"
   ]
  },
  {
   "cell_type": "code",
   "execution_count": 160,
   "id": "4b1ff971",
   "metadata": {},
   "outputs": [
    {
     "data": {
      "text/plain": [
       "[2, 4, 1, 2, 3, 4]"
      ]
     },
     "execution_count": 160,
     "metadata": {},
     "output_type": "execute_result"
    }
   ],
   "source": [
    "list4"
   ]
  },
  {
   "cell_type": "code",
   "execution_count": null,
   "id": "396e10a4",
   "metadata": {},
   "outputs": [],
   "source": []
  }
 ],
 "metadata": {
  "kernelspec": {
   "display_name": "Python 3",
   "language": "python",
   "name": "python3"
  },
  "language_info": {
   "codemirror_mode": {
    "name": "ipython",
    "version": 3
   },
   "file_extension": ".py",
   "mimetype": "text/x-python",
   "name": "python",
   "nbconvert_exporter": "python",
   "pygments_lexer": "ipython3",
   "version": "3.6.9"
  }
 },
 "nbformat": 4,
 "nbformat_minor": 5
}
