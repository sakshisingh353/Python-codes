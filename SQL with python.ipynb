{
 "cells": [
  {
   "cell_type": "markdown",
   "id": "5023ce4c",
   "metadata": {},
   "source": [
    "### In This Notebook:\n",
    "- Create Database\n",
    "- Create Table\n",
    "- Insert\n",
    "- Select\n",
    "- Where\n",
    "- Order By\n",
    "- Delete\n",
    "- Drop Table\n",
    "- Update\n",
    "- Limit\n",
    "- Join"
   ]
  },
  {
   "cell_type": "code",
   "execution_count": 1,
   "id": "30282a0f",
   "metadata": {},
   "outputs": [],
   "source": [
    "import mysql.connector\n"
   ]
  },
  {
   "cell_type": "markdown",
   "id": "770d5b0b",
   "metadata": {},
   "source": [
    "### 1.Create connection with the db\n"
   ]
  },
  {
   "cell_type": "code",
   "execution_count": 7,
   "id": "6f3c885f",
   "metadata": {},
   "outputs": [
    {
     "name": "stdout",
     "output_type": "stream",
     "text": [
      "<mysql.connector.connection_cext.CMySQLConnection object at 0x10ec0d2d0>\n"
     ]
    }
   ],
   "source": [
    "my_db=mysql.connector.connect(host='localhost',user='user',password='password')\n",
    "print(my_db)"
   ]
  },
  {
   "cell_type": "markdown",
   "id": "ec13981b",
   "metadata": {},
   "source": [
    "### 2.Checking existing database "
   ]
  },
  {
   "cell_type": "code",
   "execution_count": 8,
   "id": "00ae5a43",
   "metadata": {},
   "outputs": [
    {
     "name": "stdout",
     "output_type": "stream",
     "text": [
      "('information_schema',)\n",
      "('mysql',)\n",
      "('performance_schema',)\n",
      "('sys',)\n",
      "('system_db',)\n",
      "('test',)\n"
     ]
    }
   ],
   "source": [
    "#Creating cursor as pointers in the db to execute the necessary tasks\n",
    "cur=my_db.cursor()\n",
    "cur.execute(\"SHOW DATABASES\")\n",
    "for database in cur:\n",
    "    print(database)"
   ]
  },
  {
   "cell_type": "markdown",
   "id": "5a2e772d",
   "metadata": {},
   "source": [
    "### 3.Creating database in db"
   ]
  },
  {
   "cell_type": "code",
   "execution_count": 11,
   "id": "073b199a",
   "metadata": {},
   "outputs": [
    {
     "name": "stdout",
     "output_type": "stream",
     "text": [
      "('information_schema',)\n",
      "('my_database',)\n",
      "('mydatabase',)\n",
      "('mysql',)\n",
      "('performance_schema',)\n",
      "('sys',)\n",
      "('system_db',)\n",
      "('test',)\n"
     ]
    }
   ],
   "source": [
    "cur=my_db.cursor()\n",
    "cur.execute(\"Create database mydatabase\")\n",
    "cur.execute(\"SHOW DATABASES\")\n",
    "for database in cur:\n",
    "    print(database)"
   ]
  },
  {
   "cell_type": "raw",
   "id": "16ef9fd9",
   "metadata": {},
   "source": [
    "mydatase is created in the db"
   ]
  },
  {
   "cell_type": "markdown",
   "id": "4d718499",
   "metadata": {},
   "source": [
    "### 3. Use mydatabase"
   ]
  },
  {
   "cell_type": "code",
   "execution_count": 12,
   "id": "7439491c",
   "metadata": {},
   "outputs": [],
   "source": [
    "# start using the database in which you want to store tables and perform necessary actions\n",
    "cur=my_db.cursor()\n",
    "cur.execute(\"USE mydatabase\")"
   ]
  },
  {
   "cell_type": "markdown",
   "id": "cd8fbf7d",
   "metadata": {},
   "source": [
    "### 4. Creating Table"
   ]
  },
  {
   "cell_type": "code",
   "execution_count": 13,
   "id": "bee3da18",
   "metadata": {},
   "outputs": [],
   "source": [
    "#creating table employees\n",
    "cur=my_db.cursor()\n",
    "cur.execute(\"CREATE TABLE  employees(name VARCHAR(20),designation VARCHAR(30),Phone_no INT(13),experience INT(3),joining_date DATE)\")"
   ]
  },
  {
   "cell_type": "code",
   "execution_count": 14,
   "id": "a15c3149",
   "metadata": {},
   "outputs": [
    {
     "name": "stdout",
     "output_type": "stream",
     "text": [
      "('employees',)\n"
     ]
    }
   ],
   "source": [
    "#checking table exists\n",
    "cur=my_db.cursor()\n",
    "cur.execute(\"SHOW TABLES\")\n",
    "for tables in cur:\n",
    "    print(tables)"
   ]
  },
  {
   "cell_type": "markdown",
   "id": "a67ec3fc",
   "metadata": {},
   "source": [
    "### 5.Creating primary key\n"
   ]
  },
  {
   "cell_type": "code",
   "execution_count": 15,
   "id": "1af57f1d",
   "metadata": {},
   "outputs": [],
   "source": [
    "#As while creating the missed a column employee id so alter the table add the column and set primary key\n",
    "cur=my_db.cursor()\n",
    "cur.execute(\"ALTER TABLE employees ADD COLUMN emp_id INT(4) PRIMARY KEY\")"
   ]
  },
  {
   "cell_type": "markdown",
   "id": "5fd1045e",
   "metadata": {},
   "source": [
    "### 6.Insert into table"
   ]
  },
  {
   "cell_type": "code",
   "execution_count": 23,
   "id": "b0ab129a",
   "metadata": {},
   "outputs": [
    {
     "name": "stdout",
     "output_type": "stream",
     "text": [
      "1 record inserted\n"
     ]
    }
   ],
   "source": [
    "#Insert single record in table employees\n",
    "cur=my_db.cursor()\n",
    "sql=\"INSERT INTO employees (emp_id,name,designation,Phone_no,experience,joining_date) VALUES (%s,%s,%s,%s,%s,%s)\"\n",
    "val=[1002,\"sakshi\",\"data scientist\",98542356,2,\"2023-03-12\"]\n",
    "cur.execute(sql,val)\n",
    "my_db.commit()\n",
    "print(cur.rowcount,\"record inserted\")"
   ]
  },
  {
   "cell_type": "code",
   "execution_count": 25,
   "id": "5ba27574",
   "metadata": {},
   "outputs": [
    {
     "name": "stdout",
     "output_type": "stream",
     "text": [
      "8 record inserted\n"
     ]
    }
   ],
   "source": [
    "#insert multiple rows at a time\n",
    "cur=my_db.cursor()\n",
    "sql=\"INSERT INTO employees (emp_id,name,designation,Phone_no,experience,joining_date) VALUES (%s,%s,%s,%s,%s,%s)\"\n",
    "val=[(1003,\"rahul\",\"web developer\",1254735,2,\"2023-02-09\"),\n",
    "    (1004,\"mahesh\",\"backend dev\",54665346,4,\"2021-08-12\"),\n",
    "    (1005,\"rehan\",\"devops\",23356453,3,\"2022-05-19\"),\n",
    "    (1006,\"snigdha\",\"devops\",3425643,5,\"2020-07-23\"),\n",
    "    (1007,\"Pankaj\",\"web developer\",2355432,3,\"2020-07-09\"),\n",
    "    (1008,\"Yogita\",\"data scientist\",5543424,3,\"2020-05-19\"),\n",
    "    (1009,\"Amit\",\"Sales\",1245675,2,\"2023-05-19\"),\n",
    "    (1010,\"Umer\",\"Java dev\",1277635,1,\"2021-05-19\")]\n",
    "cur.executemany(sql,val)\n",
    "my_db.commit()\n",
    "print(cur.rowcount,\"record inserted\")"
   ]
  },
  {
   "cell_type": "markdown",
   "id": "8ed8f4c3",
   "metadata": {},
   "source": [
    "### 7.Select query"
   ]
  },
  {
   "cell_type": "code",
   "execution_count": 26,
   "id": "8e0a3ff7",
   "metadata": {},
   "outputs": [
    {
     "name": "stdout",
     "output_type": "stream",
     "text": [
      "('sakshi', 'data scientist', 98542356, 2, datetime.date(2023, 3, 12), 1001)\n",
      "('sakshi', 'data scientist', 98542356, 2, datetime.date(2023, 3, 12), 1002)\n",
      "('rahul', 'web developer', 1254735, 2, datetime.date(2023, 2, 9), 1003)\n",
      "('mahesh', 'backend dev', 54665346, 4, datetime.date(2021, 8, 12), 1004)\n",
      "('rehan', 'devops', 23356453, 3, datetime.date(2022, 5, 19), 1005)\n",
      "('snigdha', 'devops', 3425643, 5, datetime.date(2020, 7, 23), 1006)\n",
      "('Pankaj', 'web developer', 2355432, 3, datetime.date(2020, 7, 9), 1007)\n",
      "('Yogita', 'data scientist', 5543424, 3, datetime.date(2020, 5, 19), 1008)\n",
      "('Amit', 'Sales', 1245675, 2, datetime.date(2023, 5, 19), 1009)\n",
      "('Umer', 'Java dev', 1277635, 1, datetime.date(2021, 5, 19), 1010)\n"
     ]
    }
   ],
   "source": [
    "cur=my_db.cursor()\n",
    "cur.execute(\"SELECT * from employees\")\n",
    "result=cur.fetchall()\n",
    "for i in result:\n",
    "    print(i)"
   ]
  },
  {
   "cell_type": "markdown",
   "id": "d7bad523",
   "metadata": {},
   "source": [
    "### 8. select columns"
   ]
  },
  {
   "cell_type": "code",
   "execution_count": 27,
   "id": "7da87549",
   "metadata": {},
   "outputs": [
    {
     "name": "stdout",
     "output_type": "stream",
     "text": [
      "('sakshi', 'data scientist')\n",
      "('sakshi', 'data scientist')\n",
      "('rahul', 'web developer')\n",
      "('mahesh', 'backend dev')\n",
      "('rehan', 'devops')\n",
      "('snigdha', 'devops')\n",
      "('Pankaj', 'web developer')\n",
      "('Yogita', 'data scientist')\n",
      "('Amit', 'Sales')\n",
      "('Umer', 'Java dev')\n"
     ]
    }
   ],
   "source": [
    "cur=my_db.cursor()\n",
    "cur.execute(\"SELECT name,designation from employees\")\n",
    "result=cur.fetchall()\n",
    "for i in result:\n",
    "    print(i)"
   ]
  },
  {
   "cell_type": "markdown",
   "id": "de0838a4",
   "metadata": {},
   "source": [
    "### 9. select and where"
   ]
  },
  {
   "cell_type": "code",
   "execution_count": 29,
   "id": "4c0e9e0b",
   "metadata": {},
   "outputs": [
    {
     "name": "stdout",
     "output_type": "stream",
     "text": [
      "('sakshi', 'data scientist')\n",
      "('sakshi', 'data scientist')\n",
      "('Yogita', 'data scientist')\n"
     ]
    }
   ],
   "source": [
    "cur=my_db.cursor()\n",
    "cur.execute(\"SELECT name,designation from employees where designation='data scientist'\")\n",
    "result=cur.fetchall()\n",
    "for i in result:\n",
    "    print(i)"
   ]
  },
  {
   "cell_type": "markdown",
   "id": "0ac352e5",
   "metadata": {},
   "source": [
    "### 10.fetch first record "
   ]
  },
  {
   "cell_type": "code",
   "execution_count": 30,
   "id": "53204cb2",
   "metadata": {},
   "outputs": [
    {
     "name": "stdout",
     "output_type": "stream",
     "text": [
      "sakshi\n",
      "data scientist\n"
     ]
    }
   ],
   "source": [
    "cur=my_db.cursor()\n",
    "cur.execute(\"SELECT name,designation from employees where experience>1\")\n",
    "result=cur.fetchone()\n",
    "for i in result:\n",
    "    print(i)"
   ]
  },
  {
   "cell_type": "raw",
   "id": "ff70f2d0",
   "metadata": {},
   "source": [
    "1.Inside the execute necessary sql queries can be written.\n",
    "2.Similarly with wildcards, orderby, groupby, update , delete, drop.\n",
    "3.Same queries as to be written in mysql."
   ]
  }
 ],
 "metadata": {
  "kernelspec": {
   "display_name": "Python 3 (ipykernel)",
   "language": "python",
   "name": "python3"
  },
  "language_info": {
   "codemirror_mode": {
    "name": "ipython",
    "version": 3
   },
   "file_extension": ".py",
   "mimetype": "text/x-python",
   "name": "python",
   "nbconvert_exporter": "python",
   "pygments_lexer": "ipython3",
   "version": "3.10.9"
  }
 },
 "nbformat": 4,
 "nbformat_minor": 5
}
