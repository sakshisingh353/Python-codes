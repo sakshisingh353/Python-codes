{
 "cells": [
  {
   "cell_type": "markdown",
   "id": "c143bf8d",
   "metadata": {},
   "source": [
    "### Python Program to add numbers-Provided by user input"
   ]
  },
  {
   "cell_type": "code",
   "execution_count": 4,
   "id": "88a8142c",
   "metadata": {},
   "outputs": [
    {
     "name": "stdout",
     "output_type": "stream",
     "text": [
      "Enter the first number:9.5\n",
      "Enter the second number:3\n",
      "Sum of two numbers : 9.53\n"
     ]
    }
   ],
   "source": [
    "a=input(\"Enter the first number:\")\n",
    "b=input(\"Enter the second number:\")\n",
    "\n",
    "print(\"Sum of two numbers :\",a+b)"
   ]
  },
  {
   "cell_type": "markdown",
   "id": "49d1de7d",
   "metadata": {},
   "source": [
    "### Maximum of two numbers using max() function"
   ]
  },
  {
   "cell_type": "code",
   "execution_count": 5,
   "id": "0adb921c",
   "metadata": {},
   "outputs": [
    {
     "name": "stdout",
     "output_type": "stream",
     "text": [
      "6\n"
     ]
    }
   ],
   "source": [
    "a=5\n",
    "b=6\n",
    "maximum=max(a,b)\n",
    "print(maximum)"
   ]
  },
  {
   "cell_type": "markdown",
   "id": "09544138",
   "metadata": {},
   "source": [
    "### Factorial of a number\n"
   ]
  },
  {
   "cell_type": "code",
   "execution_count": 22,
   "id": "592f6ee9",
   "metadata": {},
   "outputs": [],
   "source": [
    "\n",
    "def fact(num):\n",
    "    fact=1\n",
    "    for i in range(1,num+1):\n",
    "        fact=fact*i\n",
    "    return fact"
   ]
  },
  {
   "cell_type": "code",
   "execution_count": 23,
   "id": "a6e53ee4",
   "metadata": {},
   "outputs": [
    {
     "data": {
      "text/plain": [
       "720"
      ]
     },
     "execution_count": 23,
     "metadata": {},
     "output_type": "execute_result"
    }
   ],
   "source": [
    "fact(6)"
   ]
  },
  {
   "cell_type": "markdown",
   "id": "8d84cf5a",
   "metadata": {},
   "source": [
    "### Program to calculate simple interest\n"
   ]
  },
  {
   "cell_type": "code",
   "execution_count": 24,
   "id": "d2af3b24",
   "metadata": {},
   "outputs": [],
   "source": [
    "def simple_interest(p,r,t):\n",
    "    print(\"Principle is :\",p)\n",
    "    print(\"Rate is :\",r)\n",
    "    print(\"Tenure is :\",t)\n",
    "    print(\"Simple Interest:\",p*r*t/100)"
   ]
  },
  {
   "cell_type": "code",
   "execution_count": 25,
   "id": "844b31cf",
   "metadata": {},
   "outputs": [
    {
     "name": "stdout",
     "output_type": "stream",
     "text": [
      "Principle is : 1000\n",
      "Rate is : 2.14\n",
      "Tenure is : 2\n",
      "Simple Interest: 42.8\n"
     ]
    }
   ],
   "source": [
    "simple_interest(1000,2.14,2)"
   ]
  },
  {
   "cell_type": "markdown",
   "id": "5bdcc9aa",
   "metadata": {},
   "source": [
    "### Program for compound Interest"
   ]
  },
  {
   "cell_type": "code",
   "execution_count": 34,
   "id": "d13df654",
   "metadata": {},
   "outputs": [],
   "source": [
    "def comp_interest(p,r,t,n):\n",
    "    print(\"Principle is :\",p)\n",
    "    print(\"Rate is :\",r)\n",
    "    print(\"Total time span :\",t)\n",
    "    print(\"no.of times interest got compounded:\",n)\n",
    "    s=pow(1+r/(100*n),n*T)\n",
    "    print(\"Compound Interest:\",p*s)"
   ]
  },
  {
   "cell_type": "code",
   "execution_count": 35,
   "id": "f277c942",
   "metadata": {},
   "outputs": [
    {
     "name": "stdout",
     "output_type": "stream",
     "text": [
      "Principle is : 1000\n",
      "Rate is : 2.12\n",
      "Total time span : 2\n",
      "no.of times interest got compounded: 3\n",
      "Compound Interest: 1065.4277195123336\n"
     ]
    }
   ],
   "source": [
    "comp_interest(1000,2.12,2,3)"
   ]
  },
  {
   "cell_type": "markdown",
   "id": "61866845",
   "metadata": {},
   "source": [
    "### Program to check Armstrong number"
   ]
  },
  {
   "cell_type": "code",
   "execution_count": 105,
   "id": "c8394b3a",
   "metadata": {},
   "outputs": [],
   "source": [
    "def armstrong(num):\n",
    "    f=[]\n",
    "    my_list = [int(x) for x in str(num)]\n",
    "    s=len(my_list)\n",
    "\n",
    "    for i in my_list:\n",
    "        f.append(i**s)\n",
    "        \n",
    "    total=0\n",
    "    for i in range(0,len(f)):\n",
    "        total=total+f[i]\n",
    "        \n",
    "        \n",
    "    if total==num:\n",
    "        print(\"The number is an armstrong number\")\n",
    "    else:\n",
    "        print (\" Not an armstrong number\")\n",
    "    \n",
    "    "
   ]
  },
  {
   "cell_type": "code",
   "execution_count": 108,
   "id": "a4de6dab",
   "metadata": {},
   "outputs": [
    {
     "name": "stdout",
     "output_type": "stream",
     "text": [
      "The number is an armstrong number\n"
     ]
    }
   ],
   "source": [
    "armstrong(num=1634)"
   ]
  },
  {
   "cell_type": "markdown",
   "id": "d04a531e",
   "metadata": {},
   "source": [
    "### Program to find the area of the circle"
   ]
  },
  {
   "cell_type": "code",
   "execution_count": 109,
   "id": "8a2a12d3",
   "metadata": {},
   "outputs": [],
   "source": [
    "def circle(r):\n",
    "    pi=3.14\n",
    "    print(\"Area of the circle:\",pi*r**2)"
   ]
  },
  {
   "cell_type": "code",
   "execution_count": 110,
   "id": "c0badc21",
   "metadata": {},
   "outputs": [
    {
     "name": "stdout",
     "output_type": "stream",
     "text": [
      "Area of the circle: 113.04\n"
     ]
    }
   ],
   "source": [
    "circle(6)"
   ]
  },
  {
   "cell_type": "markdown",
   "id": "6ca5cbe1",
   "metadata": {},
   "source": [
    "### Program to find prime numbers in an interval"
   ]
  },
  {
   "cell_type": "code",
   "execution_count": 127,
   "id": "3c746bc1",
   "metadata": {},
   "outputs": [
    {
     "name": "stdout",
     "output_type": "stream",
     "text": [
      "Prime numbers between 2 and 25 are:\n",
      "2\n",
      "3\n",
      "5\n",
      "7\n",
      "11\n",
      "13\n",
      "17\n",
      "19\n",
      "23\n"
     ]
    }
   ],
   "source": [
    "start=2\n",
    "end=25\n",
    "print(\"Prime numbers between\", start, \"and\", end, \"are:\")\n",
    "\n",
    "for num in range(start,end+1):\n",
    "    if num>1:\n",
    "        for i in range(2,num):\n",
    "            if (num%i)==0:\n",
    "                break\n",
    "        else:\n",
    "            print(num)\n"
   ]
  },
  {
   "cell_type": "markdown",
   "id": "660c48e3",
   "metadata": {},
   "source": [
    "### Program for the cube sum of first n natural numbers"
   ]
  },
  {
   "cell_type": "code",
   "execution_count": 156,
   "id": "ede0a14d",
   "metadata": {},
   "outputs": [],
   "source": [
    "def numbers(n):\n",
    "    my_list=[]\n",
    "    for i in range(1,n+1):\n",
    "        my_list.append(i**3)\n",
    "    m=0\n",
    "    for j in range(1,len(my_list)):\n",
    "        m=m+my_list[j]\n",
    "    return m"
   ]
  },
  {
   "cell_type": "code",
   "execution_count": 157,
   "id": "c4dfe1d1",
   "metadata": {},
   "outputs": [
    {
     "data": {
      "text/plain": [
       "3024"
      ]
     },
     "execution_count": 157,
     "metadata": {},
     "output_type": "execute_result"
    }
   ],
   "source": [
    "numbers(10)"
   ]
  },
  {
   "cell_type": "code",
   "execution_count": null,
   "id": "3d757523",
   "metadata": {},
   "outputs": [],
   "source": []
  }
 ],
 "metadata": {
  "kernelspec": {
   "display_name": "Python 3",
   "language": "python",
   "name": "python3"
  },
  "language_info": {
   "codemirror_mode": {
    "name": "ipython",
    "version": 3
   },
   "file_extension": ".py",
   "mimetype": "text/x-python",
   "name": "python",
   "nbconvert_exporter": "python",
   "pygments_lexer": "ipython3",
   "version": "3.6.9"
  }
 },
 "nbformat": 4,
 "nbformat_minor": 5
}
