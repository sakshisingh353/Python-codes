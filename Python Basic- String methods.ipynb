{
 "cells": [
  {
   "cell_type": "code",
   "execution_count": 1,
   "id": "75f033ad",
   "metadata": {},
   "outputs": [],
   "source": [
    "name='sakshi'"
   ]
  },
  {
   "cell_type": "code",
   "execution_count": 3,
   "id": "d980abd4",
   "metadata": {},
   "outputs": [
    {
     "name": "stdout",
     "output_type": "stream",
     "text": [
      "s\n",
      "a\n",
      "i\n",
      "i\n"
     ]
    }
   ],
   "source": [
    "#Accessing elements in a string\n",
    "print(name[0])\n",
    "print(name[1])\n",
    "print(name[5])\n",
    "print(name[-1])"
   ]
  },
  {
   "cell_type": "raw",
   "id": "1817364f",
   "metadata": {},
   "source": [
    "\n",
    "1.Accessing elements in a string - by accessing index\n",
    "2.Blank will also be counted as characted\n",
    "3.n chars in a string then index range will vary from 0 to n-1.\n",
    "4.string is immutable cannot be changed by indexing.\n",
    "5.String are arrays\n"
   ]
  },
  {
   "cell_type": "code",
   "execution_count": 5,
   "id": "648f9824",
   "metadata": {},
   "outputs": [
    {
     "name": "stdout",
     "output_type": "stream",
     "text": [
      "akshi\n",
      "ksh\n"
     ]
    }
   ],
   "source": [
    "#string slicing\n",
    "print(name[1:])\n",
    "print(name[2:5])\n",
    "print(name[-4:-1])"
   ]
  },
  {
   "cell_type": "code",
   "execution_count": 12,
   "id": "1b224e56",
   "metadata": {},
   "outputs": [
    {
     "name": "stdout",
     "output_type": "stream",
     "text": [
      "10\n",
      "11\n",
      "2023\n"
     ]
    }
   ],
   "source": [
    "date=\"10/11/2023\"\n",
    "print(date[:2]) # date\n",
    "print(date[3:5]) # month\n",
    "print(date[6:]) # year"
   ]
  },
  {
   "cell_type": "code",
   "execution_count": 14,
   "id": "7a0670a7",
   "metadata": {},
   "outputs": [
    {
     "name": "stdout",
     "output_type": "stream",
     "text": [
      "Imoi  dacns\n"
     ]
    }
   ],
   "source": [
    "#slicing and steps['start':'end':'step']\n",
    "data='I am working as a data scientist'\n",
    "print(data[0::3])"
   ]
  },
  {
   "cell_type": "code",
   "execution_count": 32,
   "id": "24e27a57",
   "metadata": {},
   "outputs": [
    {
     "name": "stdout",
     "output_type": "stream",
     "text": [
      "Enter a string :Radar\n",
      "string is palindrome\n"
     ]
    }
   ],
   "source": [
    "#palindrome code\n",
    "data=input(\"Enter a string :\")\n",
    "if data.lower()==data[::-1].lower():\n",
    "    print('string is palindrome')\n",
    "    \n",
    "else:\n",
    "    print('string is not a palindrome')"
   ]
  },
  {
   "cell_type": "code",
   "execution_count": 34,
   "id": "8f88a990",
   "metadata": {},
   "outputs": [
    {
     "ename": "TypeError",
     "evalue": "'str' object does not support item assignment",
     "output_type": "error",
     "traceback": [
      "\u001b[0;31m---------------------------------------------------------------------------\u001b[0m",
      "\u001b[0;31mTypeError\u001b[0m                                 Traceback (most recent call last)",
      "Cell \u001b[0;32mIn[34], line 1\u001b[0m\n\u001b[0;32m----> 1\u001b[0m name[\u001b[38;5;241m0\u001b[39m]\u001b[38;5;241m=\u001b[39m\u001b[38;5;124m'\u001b[39m\u001b[38;5;124mf\u001b[39m\u001b[38;5;124m'\u001b[39m\n",
      "\u001b[0;31mTypeError\u001b[0m: 'str' object does not support item assignment"
     ]
    }
   ],
   "source": [
    "name[0]='f'"
   ]
  },
  {
   "cell_type": "markdown",
   "id": "a2c1fbe7",
   "metadata": {},
   "source": [
    "### string methods"
   ]
  },
  {
   "cell_type": "raw",
   "id": "eaab521b",
   "metadata": {},
   "source": [
    "1.Replace- Replace/ change chars in a string\n",
    "2.len- to check number of chars in a string, it will count space as well\n",
    "3.count()-count number of chars in a string\n",
    "4.split()- gives string after splitting\n",
    "5.upper(),lower(),title(),capitalize(),swapcase()\n",
    "6.join\n",
    "7.remove -remove extra spaces and back of the string\n",
    "8.center"
   ]
  },
  {
   "cell_type": "code",
   "execution_count": 41,
   "id": "4b2becaa",
   "metadata": {},
   "outputs": [],
   "source": [
    "name ='sakshi singh'"
   ]
  },
  {
   "cell_type": "code",
   "execution_count": 42,
   "id": "06b601c4",
   "metadata": {},
   "outputs": [
    {
     "name": "stdout",
     "output_type": "stream",
     "text": [
      "sakshI sIngh sakshi singh\n"
     ]
    }
   ],
   "source": [
    "name.replace(\"i\",\"I\")\n",
    "print(name.replace(\"i\",\"I\"),name)"
   ]
  },
  {
   "cell_type": "code",
   "execution_count": 43,
   "id": "bb3a4f31",
   "metadata": {},
   "outputs": [
    {
     "data": {
      "text/plain": [
       "12"
      ]
     },
     "execution_count": 43,
     "metadata": {},
     "output_type": "execute_result"
    }
   ],
   "source": [
    "len(name)"
   ]
  },
  {
   "cell_type": "code",
   "execution_count": 44,
   "id": "3c3b2fc6",
   "metadata": {},
   "outputs": [
    {
     "data": {
      "text/plain": [
       "11"
      ]
     },
     "execution_count": 44,
     "metadata": {},
     "output_type": "execute_result"
    }
   ],
   "source": [
    "len(name)-1"
   ]
  },
  {
   "cell_type": "code",
   "execution_count": 46,
   "id": "ddc7e511",
   "metadata": {},
   "outputs": [
    {
     "data": {
      "text/plain": [
       "'sasshi singh'"
      ]
     },
     "execution_count": 46,
     "metadata": {},
     "output_type": "execute_result"
    }
   ],
   "source": [
    "name.replace(\"k\",'s')"
   ]
  },
  {
   "cell_type": "code",
   "execution_count": 50,
   "id": "4c4c0788",
   "metadata": {},
   "outputs": [
    {
     "data": {
      "text/plain": [
       "3"
      ]
     },
     "execution_count": 50,
     "metadata": {},
     "output_type": "execute_result"
    }
   ],
   "source": [
    "#count specific char\n",
    "name.count('s')"
   ]
  },
  {
   "cell_type": "code",
   "execution_count": 52,
   "id": "510c361f",
   "metadata": {},
   "outputs": [
    {
     "data": {
      "text/plain": [
       "1"
      ]
     },
     "execution_count": 52,
     "metadata": {},
     "output_type": "execute_result"
    }
   ],
   "source": [
    "name.count(' ')"
   ]
  },
  {
   "cell_type": "code",
   "execution_count": 53,
   "id": "5d4a3777",
   "metadata": {},
   "outputs": [
    {
     "data": {
      "text/plain": [
       "['sakshi', 'singh']"
      ]
     },
     "execution_count": 53,
     "metadata": {},
     "output_type": "execute_result"
    }
   ],
   "source": [
    "#splitting operation \n",
    "name.split(' ')"
   ]
  },
  {
   "cell_type": "code",
   "execution_count": 54,
   "id": "7d07a6b7",
   "metadata": {},
   "outputs": [
    {
     "name": "stdout",
     "output_type": "stream",
     "text": [
      "sakshi singh\n"
     ]
    }
   ],
   "source": [
    "first_name,last_name=name.split(' ')\n",
    "print(first_name,last_name)"
   ]
  },
  {
   "cell_type": "code",
   "execution_count": 55,
   "id": "67028b4e",
   "metadata": {},
   "outputs": [
    {
     "name": "stdout",
     "output_type": "stream",
     "text": [
      "Enter the date in dd/mm/yyy format :17/09/1996\n",
      "The user was born in the month of 09 in the year 1996 on the day 17\n"
     ]
    }
   ],
   "source": [
    "data=input('Enter the date in dd/mm/yyy format :')\n",
    "date,month,year=data.split('/')\n",
    "print(f\"The user was born in the month of {month} in the year {year} on the day {date}\")"
   ]
  },
  {
   "cell_type": "code",
   "execution_count": 58,
   "id": "b38ebdaf",
   "metadata": {},
   "outputs": [
    {
     "data": {
      "text/plain": [
       "'I have done my work'"
      ]
     },
     "execution_count": 58,
     "metadata": {},
     "output_type": "execute_result"
    }
   ],
   "source": [
    "data='I have done my work.Please assign next task'\n",
    "data.split('.')[0]"
   ]
  },
  {
   "cell_type": "code",
   "execution_count": 60,
   "id": "b9983a9f",
   "metadata": {},
   "outputs": [
    {
     "name": "stdout",
     "output_type": "stream",
     "text": [
      "Enter the string :Sakshi sinGH worKS in a COmpanY\n",
      "user input:Sakshi sinGH worKS in a COmpanY\n",
      "string uppercase : SAKSHI SINGH WORKS IN A COMPANY\n",
      "string lowercase : sakshi singh works in a company\n",
      "string title : Sakshi Singh Works In A Company\n",
      "string capitalize : Sakshi singh works in a company\n",
      "string swapcase : sAKSHI SINgh WORks IN A coMPANy\n"
     ]
    },
    {
     "data": {
      "text/plain": [
       "724254"
      ]
     },
     "execution_count": 60,
     "metadata": {},
     "output_type": "execute_result"
    }
   ],
   "source": [
    "data=input('Enter the string :')\n",
    "print(f\"user input:{data}\")\n",
    "print(f\"string uppercase : {data.upper()}\")\n",
    "print(f\"string lowercase : {data.lower()}\")\n",
    "print(f\"string title : {data.title()}\")\n",
    "print(f\"string capitalize : {data.capitalize()}\")\n",
    "print(f\"string swapcase : {data.swapcase()}\")\n",
    "\n",
    "724254\n",
    "\n",
    "\n"
   ]
  },
  {
   "cell_type": "code",
   "execution_count": 61,
   "id": "46bdf07f",
   "metadata": {},
   "outputs": [
    {
     "data": {
      "text/plain": [
       "'s*a*k*s*h*i* *s*i*n*g*h'"
      ]
     },
     "execution_count": 61,
     "metadata": {},
     "output_type": "execute_result"
    }
   ],
   "source": [
    "data='sakshi singh'\n",
    "\"*\".join(data)"
   ]
  },
  {
   "cell_type": "code",
   "execution_count": 62,
   "id": "381d2d64",
   "metadata": {},
   "outputs": [
    {
     "data": {
      "text/plain": [
       "'s_a_k_s_h_i_ _s_i_n_g_h'"
      ]
     },
     "execution_count": 62,
     "metadata": {},
     "output_type": "execute_result"
    }
   ],
   "source": [
    "\"_\".join(data)"
   ]
  },
  {
   "cell_type": "code",
   "execution_count": 63,
   "id": "8657c50e",
   "metadata": {},
   "outputs": [
    {
     "data": {
      "text/plain": [
       "'s|a|k|s|h|i| |s|i|n|g|h'"
      ]
     },
     "execution_count": 63,
     "metadata": {},
     "output_type": "execute_result"
    }
   ],
   "source": [
    "\"|\".join(data)"
   ]
  },
  {
   "cell_type": "code",
   "execution_count": 67,
   "id": "958dcbd6",
   "metadata": {},
   "outputs": [
    {
     "data": {
      "text/plain": [
       "'hgnis ihskas'"
      ]
     },
     "execution_count": 67,
     "metadata": {},
     "output_type": "execute_result"
    }
   ],
   "source": [
    "\"\".join(reversed(name))"
   ]
  },
  {
   "cell_type": "code",
   "execution_count": 65,
   "id": "1d68f86a",
   "metadata": {},
   "outputs": [
    {
     "data": {
      "text/plain": [
       "'hgnis ihskas'"
      ]
     },
     "execution_count": 65,
     "metadata": {},
     "output_type": "execute_result"
    }
   ],
   "source": [
    "name[::-1]"
   ]
  },
  {
   "cell_type": "code",
   "execution_count": 76,
   "id": "c6b0a98c",
   "metadata": {},
   "outputs": [],
   "source": [
    "name=\"    Sakshi  singh.   \""
   ]
  },
  {
   "cell_type": "code",
   "execution_count": 78,
   "id": "006ea5ac",
   "metadata": {},
   "outputs": [
    {
     "data": {
      "text/plain": [
       "'Sakshi  singh'"
      ]
     },
     "execution_count": 78,
     "metadata": {},
     "output_type": "execute_result"
    }
   ],
   "source": [
    "name.strip(\". \")"
   ]
  },
  {
   "cell_type": "code",
   "execution_count": 79,
   "id": "38f2dc89",
   "metadata": {},
   "outputs": [
    {
     "name": "stdout",
     "output_type": "stream",
     "text": [
      "Sakshi  singh.   \n",
      "    Sakshi  singh.\n"
     ]
    }
   ],
   "source": [
    "#left strip and right strip\n",
    "print(name.lstrip())\n",
    "print(name.rstrip())"
   ]
  },
  {
   "cell_type": "code",
   "execution_count": 81,
   "id": "6956d6d0",
   "metadata": {},
   "outputs": [
    {
     "data": {
      "text/plain": [
       "'sakshi singh'"
      ]
     },
     "execution_count": 81,
     "metadata": {},
     "output_type": "execute_result"
    }
   ],
   "source": [
    "data.casefold()"
   ]
  },
  {
   "cell_type": "code",
   "execution_count": 82,
   "id": "5bf3dca0",
   "metadata": {},
   "outputs": [
    {
     "data": {
      "text/plain": [
       "['sakshi', 'singh']"
      ]
     },
     "execution_count": 82,
     "metadata": {},
     "output_type": "execute_result"
    }
   ],
   "source": [
    "data.rsplit()"
   ]
  },
  {
   "cell_type": "code",
   "execution_count": 86,
   "id": "86cb8b7d",
   "metadata": {},
   "outputs": [
    {
     "data": {
      "text/plain": [
       "'****sakshi singh****'"
      ]
     },
     "execution_count": 86,
     "metadata": {},
     "output_type": "execute_result"
    }
   ],
   "source": [
    "data.center(20,\"*\")"
   ]
  },
  {
   "cell_type": "markdown",
   "id": "e49861f9",
   "metadata": {},
   "source": [
    "### checking string cases"
   ]
  },
  {
   "cell_type": "code",
   "execution_count": 87,
   "id": "0d441da4",
   "metadata": {},
   "outputs": [],
   "source": [
    "data='SUNNY'"
   ]
  },
  {
   "cell_type": "code",
   "execution_count": 88,
   "id": "6d70f2a9",
   "metadata": {},
   "outputs": [
    {
     "data": {
      "text/plain": [
       "True"
      ]
     },
     "execution_count": 88,
     "metadata": {},
     "output_type": "execute_result"
    }
   ],
   "source": [
    "data.isupper()"
   ]
  },
  {
   "cell_type": "code",
   "execution_count": 89,
   "id": "129c0cb6",
   "metadata": {},
   "outputs": [
    {
     "data": {
      "text/plain": [
       "False"
      ]
     },
     "execution_count": 89,
     "metadata": {},
     "output_type": "execute_result"
    }
   ],
   "source": [
    "data.islower()"
   ]
  },
  {
   "cell_type": "code",
   "execution_count": 90,
   "id": "b7481865",
   "metadata": {},
   "outputs": [],
   "source": [
    "data=\"SunnY\""
   ]
  },
  {
   "cell_type": "code",
   "execution_count": 91,
   "id": "7050eeea",
   "metadata": {},
   "outputs": [
    {
     "data": {
      "text/plain": [
       "False"
      ]
     },
     "execution_count": 91,
     "metadata": {},
     "output_type": "execute_result"
    }
   ],
   "source": [
    "data.islower()"
   ]
  },
  {
   "cell_type": "code",
   "execution_count": 92,
   "id": "016d7c19",
   "metadata": {},
   "outputs": [
    {
     "data": {
      "text/plain": [
       "False"
      ]
     },
     "execution_count": 92,
     "metadata": {},
     "output_type": "execute_result"
    }
   ],
   "source": [
    "data.isupper()"
   ]
  },
  {
   "cell_type": "code",
   "execution_count": 93,
   "id": "4907f987",
   "metadata": {},
   "outputs": [
    {
     "data": {
      "text/plain": [
       "False"
      ]
     },
     "execution_count": 93,
     "metadata": {},
     "output_type": "execute_result"
    }
   ],
   "source": [
    "data.isspace()"
   ]
  },
  {
   "cell_type": "code",
   "execution_count": 97,
   "id": "a2eb72ec",
   "metadata": {},
   "outputs": [],
   "source": [
    "data=\"Sakshi Singh\""
   ]
  },
  {
   "cell_type": "code",
   "execution_count": 95,
   "id": "ef1d7d8c",
   "metadata": {},
   "outputs": [
    {
     "data": {
      "text/plain": [
       "False"
      ]
     },
     "execution_count": 95,
     "metadata": {},
     "output_type": "execute_result"
    }
   ],
   "source": [
    "data.isspace()"
   ]
  },
  {
   "cell_type": "code",
   "execution_count": 98,
   "id": "ed004de3",
   "metadata": {},
   "outputs": [
    {
     "data": {
      "text/plain": [
       "True"
      ]
     },
     "execution_count": 98,
     "metadata": {},
     "output_type": "execute_result"
    }
   ],
   "source": [
    "data.istitle()"
   ]
  },
  {
   "cell_type": "code",
   "execution_count": 99,
   "id": "86947181",
   "metadata": {},
   "outputs": [
    {
     "name": "stdout",
     "output_type": "stream",
     "text": [
      "Enter your name:sakshi singh\n",
      "Wrong input\n",
      "correct input = Sakshi Singh\n"
     ]
    }
   ],
   "source": [
    "name=input(\"Enter your name:\")\n",
    "if name!=name.title():\n",
    "    print(\"Wrong input\")\n",
    "    print(f\"correct input = {name.title()}\")\n",
    "else:\n",
    "    print(\"Correct input\")"
   ]
  },
  {
   "cell_type": "code",
   "execution_count": 100,
   "id": "0a227eb3",
   "metadata": {},
   "outputs": [
    {
     "data": {
      "text/plain": [
       "True"
      ]
     },
     "execution_count": 100,
     "metadata": {},
     "output_type": "execute_result"
    }
   ],
   "source": [
    "phone_number=\"125647739\"\n",
    "phone_number.isdigit()"
   ]
  },
  {
   "cell_type": "code",
   "execution_count": 101,
   "id": "eb4ae6f1",
   "metadata": {},
   "outputs": [
    {
     "data": {
      "text/plain": [
       "False"
      ]
     },
     "execution_count": 101,
     "metadata": {},
     "output_type": "execute_result"
    }
   ],
   "source": [
    "phone_number=\"125647739sss\"\n",
    "phone_number.isdigit()"
   ]
  },
  {
   "cell_type": "code",
   "execution_count": 110,
   "id": "3d1b39b3",
   "metadata": {},
   "outputs": [
    {
     "name": "stdout",
     "output_type": "stream",
     "text": [
      "Enter the phone number :9871261578kkh\n",
      "Phone number is not in correct format\n"
     ]
    }
   ],
   "source": [
    "data=input(\"Enter the phone number :\")\n",
    "if data.isdigit() and len(data)>=10 and len(data)<13 and data!=\"0000000000\":\n",
    "    print(\"The phone number is in correct format\")\n",
    "else:\n",
    "    print(\"Phone number is not in correct format\")"
   ]
  },
  {
   "cell_type": "code",
   "execution_count": 113,
   "id": "68e4e014",
   "metadata": {},
   "outputs": [],
   "source": [
    "data=\"AYTRG7765\""
   ]
  },
  {
   "cell_type": "code",
   "execution_count": 114,
   "id": "7a5b5fb1",
   "metadata": {},
   "outputs": [
    {
     "data": {
      "text/plain": [
       "True"
      ]
     },
     "execution_count": 114,
     "metadata": {},
     "output_type": "execute_result"
    }
   ],
   "source": [
    "data.isalnum()"
   ]
  },
  {
   "cell_type": "code",
   "execution_count": 120,
   "id": "fd7e0819",
   "metadata": {},
   "outputs": [],
   "source": [
    "data=\"Sakshi singh\""
   ]
  },
  {
   "cell_type": "code",
   "execution_count": 121,
   "id": "bc38f943",
   "metadata": {},
   "outputs": [],
   "source": [
    "k=data.encode() # encoded version of the string"
   ]
  },
  {
   "cell_type": "code",
   "execution_count": 122,
   "id": "febf6396",
   "metadata": {},
   "outputs": [
    {
     "data": {
      "text/plain": [
       "'Sakshi singh'"
      ]
     },
     "execution_count": 122,
     "metadata": {},
     "output_type": "execute_result"
    }
   ],
   "source": [
    "k.decode()"
   ]
  },
  {
   "cell_type": "code",
   "execution_count": 123,
   "id": "16c101ae",
   "metadata": {},
   "outputs": [
    {
     "data": {
      "text/plain": [
       "b'Sakshi singh'"
      ]
     },
     "execution_count": 123,
     "metadata": {},
     "output_type": "execute_result"
    }
   ],
   "source": [
    "k"
   ]
  },
  {
   "cell_type": "code",
   "execution_count": 126,
   "id": "ddbc3d3c",
   "metadata": {},
   "outputs": [
    {
     "data": {
      "text/plain": [
       "False"
      ]
     },
     "execution_count": 126,
     "metadata": {},
     "output_type": "execute_result"
    }
   ],
   "source": [
    "data.endswith('k')"
   ]
  },
  {
   "cell_type": "code",
   "execution_count": 128,
   "id": "af021b5c",
   "metadata": {},
   "outputs": [
    {
     "data": {
      "text/plain": [
       "True"
      ]
     },
     "execution_count": 128,
     "metadata": {},
     "output_type": "execute_result"
    }
   ],
   "source": [
    "data.startswith('S')"
   ]
  },
  {
   "cell_type": "code",
   "execution_count": 130,
   "id": "fcd26728",
   "metadata": {},
   "outputs": [
    {
     "data": {
      "text/plain": [
       "0"
      ]
     },
     "execution_count": 130,
     "metadata": {},
     "output_type": "execute_result"
    }
   ],
   "source": [
    "data.find('Sakshi')"
   ]
  },
  {
   "cell_type": "code",
   "execution_count": 133,
   "id": "ecc1f3be",
   "metadata": {},
   "outputs": [
    {
     "data": {
      "text/plain": [
       "7"
      ]
     },
     "execution_count": 133,
     "metadata": {},
     "output_type": "execute_result"
    }
   ],
   "source": [
    "data.find(\"singh\")"
   ]
  },
  {
   "cell_type": "code",
   "execution_count": 134,
   "id": "b6e83916",
   "metadata": {},
   "outputs": [
    {
     "data": {
      "text/plain": [
       "False"
      ]
     },
     "execution_count": 134,
     "metadata": {},
     "output_type": "execute_result"
    }
   ],
   "source": [
    "data.isalpha()"
   ]
  },
  {
   "cell_type": "code",
   "execution_count": 135,
   "id": "c85f1c7d",
   "metadata": {},
   "outputs": [],
   "source": [
    "data='sakshisingh'"
   ]
  },
  {
   "cell_type": "code",
   "execution_count": 136,
   "id": "d5104e3f",
   "metadata": {},
   "outputs": [
    {
     "data": {
      "text/plain": [
       "True"
      ]
     },
     "execution_count": 136,
     "metadata": {},
     "output_type": "execute_result"
    }
   ],
   "source": [
    "data.isalpha()"
   ]
  },
  {
   "cell_type": "markdown",
   "id": "1284039c",
   "metadata": {},
   "source": [
    "## looping strings"
   ]
  },
  {
   "cell_type": "code",
   "execution_count": 137,
   "id": "b944906d",
   "metadata": {},
   "outputs": [
    {
     "name": "stdout",
     "output_type": "stream",
     "text": [
      "s\n",
      "a\n",
      "k\n",
      "s\n",
      "h\n",
      "i\n",
      "s\n",
      "i\n",
      "n\n",
      "g\n",
      "h\n"
     ]
    }
   ],
   "source": [
    "for i in data :\n",
    "    print(i)"
   ]
  },
  {
   "cell_type": "code",
   "execution_count": 139,
   "id": "5f8915e5",
   "metadata": {},
   "outputs": [
    {
     "name": "stdout",
     "output_type": "stream",
     "text": [
      "i\n",
      "have\n",
      "been\n",
      "working\n",
      "in\n",
      "this\n",
      "company\n",
      "since\n",
      "last\n",
      "4\n",
      "years\n"
     ]
    }
   ],
   "source": [
    "data=\"I have been working in this company since last 4 years\"\n",
    "for i in data.split():\n",
    "    print(i.lower())"
   ]
  },
  {
   "cell_type": "code",
   "execution_count": null,
   "id": "e3888c00",
   "metadata": {},
   "outputs": [],
   "source": []
  }
 ],
 "metadata": {
  "kernelspec": {
   "display_name": "Python 3 (ipykernel)",
   "language": "python",
   "name": "python3"
  },
  "language_info": {
   "codemirror_mode": {
    "name": "ipython",
    "version": 3
   },
   "file_extension": ".py",
   "mimetype": "text/x-python",
   "name": "python",
   "nbconvert_exporter": "python",
   "pygments_lexer": "ipython3",
   "version": "3.10.9"
  }
 },
 "nbformat": 4,
 "nbformat_minor": 5
}
